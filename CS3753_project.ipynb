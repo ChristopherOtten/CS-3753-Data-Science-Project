{
 "cells": [
  {
   "cell_type": "code",
   "execution_count": 9,
   "metadata": {},
   "outputs": [
    {
     "name": "stdout",
     "output_type": "stream",
     "text": [
      "359044\n"
     ]
    }
   ],
   "source": [
    "import numpy as np\n",
    "\n",
    "#structed data type \n",
    "dt = {'names':('ID','case','date','block','IUCR','primarytype','desc', 'location',\n",
    "               'arrest','domestic','beat','district', 'ward','community','fbiCode',\n",
    "              'xCoor','yCoor','year','updatedon', 'latitude','longitude'),\n",
    "         'formats':('U25','U25','U25','U25','U25','U25','U25','U25','U25','U25','U25',\n",
    "                   'U25','U25','U25','U25','U25','U25','U25','U25','U25','U25')}\n",
    "\n",
    "#read from file\n",
    "npdata = np.genfromtxt(\"Crimes_-_2017_to_present.csv\",skip_header=1,dtype=dt, delimiter=',', missing_values='',\n",
    "                       usecols=(0,1,2,3,4,5,6,7,8,9,10,11,12,13,14,15,16,17,18,19,20))\n",
    "\n",
    "#list of all names\n",
    "names = ['ID','case','date','block','IUCR','primarytype','desc', 'location',\n",
    "               'arrest','domestic','beat','district', 'ward','community','fbiCode',\n",
    "              'xCoor','yCoor','year','updatedon', 'latitude','longitude']\n",
    "\n",
    "#deleting invalid rows\n",
    "for i in range(0,len(names)):\n",
    "    dRows = np.where(npdata[names[i]]=='')\n",
    "    npdata = np.delete(npdata,dRows)\n",
    "\n",
    "print(npdata.size)"
   ]
  },
  {
   "cell_type": "code",
   "execution_count": null,
   "metadata": {},
   "outputs": [],
   "source": []
  },
  {
   "cell_type": "code",
   "execution_count": null,
   "metadata": {},
   "outputs": [],
   "source": []
  }
 ],
 "metadata": {
  "kernelspec": {
   "display_name": "Python 3",
   "language": "python",
   "name": "python3"
  }
 },
 "nbformat": 4,
 "nbformat_minor": 2
}
