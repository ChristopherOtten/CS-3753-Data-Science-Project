{
 "cells": [
  {
   "cell_type": "code",
   "execution_count": 1,
   "metadata": {},
   "outputs": [
    {
     "name": "stdout",
     "output_type": "stream",
     "text": [
      "Most Dangerous Block: 001XX N STATE ST \n",
      "Occurences: 1331\n"
     ]
    }
   ],
   "source": [
    "import pandas as pd\n",
    "import numpy as np\n",
    "\n",
    "#constants to quickly references the columns\n",
    "BLOCK = 'Block'\n",
    "\n",
    "#function to read the crime statistics file and return\n",
    "#a clean dataframe\n",
    "def getCleanCrimeData():\n",
    "    data = pd.read_csv('Crimes_-_2017_to_present.csv')\n",
    "    data = data.dropna()\n",
    "    return data\n",
    "\n",
    "#Each problem should be kept in a function, Example\n",
    "#function below in which takes in a dataframe and prints\n",
    "#the data types\n",
    "def funcExample(data):\n",
    "    print(data.dtypes)\n",
    "    \n",
    "def topCrimeBlocks(npdata):\n",
    "    #returns 2 arrays, one for all blocks, another for number of times\n",
    "    #blocks appear\n",
    "    allBlocks, counts = np.unique(npdata[BLOCK], return_counts=True)\n",
    "\n",
    "    #get index of most common block and apply to allBlocks array\n",
    "    blockIndex = counts.argmax()\n",
    "    block = allBlocks[blockIndex]\n",
    "    print(\"Most Dangerous Block:\",block,\"\\nOccurences:\",counts[blockIndex])\n",
    "    \n",
    "#main function in which runs all functions, no logic in main only reference\n",
    "#to another function\n",
    "\n",
    "#when pushing to the repo make sure to comment our your function\n",
    "#at the end we can uncomment and run. \n",
    "def main():\n",
    "    # only read from file once, use data in other functions\n",
    "    data = getCleanCrimeData()\n",
    "    #example function for each problem\n",
    "    #funcExample(data)\n",
    "    topCrimeBlocks(data)\n",
    "\n",
    "if __name__ == \"__main__\":\n",
    "    main()\n",
    "\n",
    "\n",
    "\n",
    "\n"
   ]
  }
 ],
 "metadata": {
  "kernelspec": {
   "display_name": "Python 3",
   "language": "python",
   "name": "python3"
  },
  "language_info": {
   "codemirror_mode": {
    "name": "ipython",
    "version": 3
   },
   "file_extension": ".py",
   "mimetype": "text/x-python",
   "name": "python",
   "nbconvert_exporter": "python",
   "pygments_lexer": "ipython3",
   "version": "3.7.1"
  }
 },
 "nbformat": 4,
 "nbformat_minor": 2
}
