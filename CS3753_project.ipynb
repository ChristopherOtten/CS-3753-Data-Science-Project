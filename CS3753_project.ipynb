{
 "cells": [
  {
   "cell_type": "code",
   "execution_count": 1,
   "metadata": {},
   "outputs": [
    {
     "name": "stderr",
     "output_type": "stream",
     "text": [
      "C:\\Users\\chris\\Anaconda3\\lib\\site-packages\\IPython\\core\\interactiveshell.py:3267: DtypeWarning: Columns (1,2,3,4,5,6,7,8,9,14,18,21) have mixed types. Specify dtype option on import or set low_memory=False.\n",
      "  exec(code_obj, self.user_global_ns, self.user_ns)\n"
     ]
    },
    {
     "name": "stdout",
     "output_type": "stream",
     "text": [
      "Ten Chicago Blocks With Highest Crimes Reported:\n",
      "\n",
      "Block:  001XX N STATE ST \t\tOccurences: 1331\n",
      "Block:  008XX N MICHIGAN AVE \t\tOccurences: 641\n",
      "Block:  0000X S STATE ST \t\tOccurences: 606\n",
      "Block:  0000X W TERMINAL ST \t\tOccurences: 557\n",
      "Block:  0000X N STATE ST \t\tOccurences: 551\n",
      "Block:  011XX S CANAL ST \t\tOccurences: 410\n",
      "Block:  006XX N MICHIGAN AVE \t\tOccurences: 395\n",
      "Block:  100XX W OHARE ST \t\tOccurences: 347\n",
      "Block:  003XX E RANDOLPH ST \t\tOccurences: 340\n",
      "Block:  001XX W LAKE ST \t\tOccurences: 328\n"
     ]
    }
   ],
   "source": [
    "import pandas as pd\n",
    "import numpy as np\n",
    "from collections import Counter\n",
    "\n",
    "#constants to quickly references the columns\n",
    "BLOCK = 'Block'\n",
    "\n",
    "#function to read the crime statistics file and return\n",
    "#a clean dataframe\n",
    "def getCleanCrimeData():\n",
    "    data = pd.read_csv('Crimes_-_2017_to_present.csv')\n",
    "    data = data.dropna()\n",
    "    return data\n",
    "\n",
    "#Each problem should be kept in a function, Example\n",
    "#function below in which takes in a dataframe and prints\n",
    "#the data types\n",
    "def funcExample(data):\n",
    "    print(data.dtypes)\n",
    "    \n",
    "def topCrimeBlocks(npdata):\n",
    "    \n",
    "    #returns 2 arrays, one for all blocks, another for number of times\n",
    "    #blocks appear\n",
    "    allBlocks, counts = np.unique(npdata[BLOCK], return_counts=True)\n",
    "    print(\"Ten Chicago Blocks With Highest Crimes Reported:\\n\")\n",
    "    \n",
    "    #finds and prints 10 most crime ridden blocks\n",
    "    for i in range(0,10):\n",
    "        blockIndex = counts.argmax()\n",
    "        total = counts[blockIndex]\n",
    "        block = allBlocks[blockIndex]\n",
    "        \n",
    "        counts = np.delete(counts,blockIndex)\n",
    "        allBlocks = np.delete(allBlocks,blockIndex)\n",
    "        \n",
    "        print(\"Block: \",block,\"\\t\\tOccurences:\",total)\n",
    "    \n",
    "#main function in which runs all functions, no logic in main only reference\n",
    "#to another function\n",
    "\n",
    "#when pushing to the repo make sure to comment our your function\n",
    "#at the end we can uncomment and run. \n",
    "def main():\n",
    "    # only read from file once, use data in other functions\n",
    "    data = getCleanCrimeData()\n",
    "    #example function for each problem\n",
    "    #funcExample(data)\n",
    "    topCrimeBlocks(data)\n",
    "\n",
    "if __name__ == \"__main__\":\n",
    "    main()\n"
   ]
  },
  {
   "cell_type": "code",
   "execution_count": null,
   "metadata": {},
   "outputs": [],
   "source": []
  },
  {
   "cell_type": "code",
   "execution_count": null,
   "metadata": {},
   "outputs": [],
   "source": []
  }
 ],
 "metadata": {
  "kernelspec": {
   "display_name": "Python 3",
   "language": "python",
   "name": "python3"
  },
  "language_info": {
   "codemirror_mode": {
    "name": "ipython",
    "version": 3
   },
   "file_extension": ".py",
   "mimetype": "text/x-python",
   "name": "python",
   "nbconvert_exporter": "python",
   "pygments_lexer": "ipython3",
   "version": "3.7.1"
  }
 },
 "nbformat": 4,
 "nbformat_minor": 2
}
