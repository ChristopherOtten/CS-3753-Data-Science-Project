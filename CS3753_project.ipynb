{
 "cells": [
  {
   "cell_type": "code",
   "execution_count": 1,
   "metadata": {},
   "outputs": [
    {
     "name": "stdout",
     "output_type": "stream",
     "text": [
      "Most Dangerous Block: 001XX N STATE ST \n",
      "Occurences: 1331\n"
     ]
    }
   ],
   "source": [
    "import numpy as np\n",
    "\n",
    "def getCrimeArray():\n",
    "    #structed data type \n",
    "    dt = {'names':('ID','case','date','block','IUCR','primarytype','desc', 'location',\n",
    "        'arrest','domestic','beat','district', 'ward','community','fbiCode',\n",
    "        'xCoor','yCoor','year','updatedon', 'latitude','longitude'),\n",
    "        'formats':('U25','U25','U25','U25','U25','U25','U25','U25','U25','U25','U25',\n",
    "        'U25','U25','U25','U25','U25','U25','U25','U25','U25','U25')}\n",
    "\n",
    "    #read from file\n",
    "    npdata = np.genfromtxt(\"Crimes_-_2017_to_present.csv\",skip_header=1,dtype=dt, delimiter=',', missing_values='',\n",
    "            usecols=(0,1,2,3,4,5,6,7,8,9,10,11,12,13,14,15,16,17,18,19,20))\n",
    "\n",
    "    names = ['ID','case','date','block','IUCR','primarytype','desc', 'location',\n",
    "               'arrest','domestic','beat','district', 'ward','community','fbiCode',\n",
    "              'xCoor','yCoor','year','updatedon', 'latitude','longitude']\n",
    "    \n",
    "    #clean data\n",
    "    for i in range(0,len(names)):\n",
    "        dRows = np.where(npdata[names[i]]=='')\n",
    "        npdata = np.delete(npdata,dRows)\n",
    "        \n",
    "    return(npdata)\n",
    "\n",
    "def topCrimeBlocks(npdata):\n",
    "    #returns 2 arrays, one for all blocks, another for number of times\n",
    "    #blocks appear\n",
    "    allBlocks, counts = np.unique(npdata['block'], return_counts=True)\n",
    "\n",
    "    #get index of most common block and apply to allBlocks array\n",
    "    blockIndex = counts.argmax()\n",
    "    block = allBlocks[blockIndex]\n",
    "    print(\"Most Dangerous Block:\",block,\"\\nOccurences:\",counts[blockIndex])\n",
    "    \n",
    "\n",
    "\n",
    "\n",
    "npdata = getCrimeArray()\n",
    "#print(npdata.size)    #test to see size after\n",
    "\n",
    "topCrimeBlocks(npdata)\n",
    "\n"
   ]
  }
 ],
 "metadata": {
  "kernelspec": {
   "display_name": "Python 3",
   "language": "python",
   "name": "python3"
  },
  "language_info": {
   "codemirror_mode": {
    "name": "ipython",
    "version": 3
   },
   "file_extension": ".py",
   "mimetype": "text/x-python",
   "name": "python",
   "nbconvert_exporter": "python",
   "pygments_lexer": "ipython3",
   "version": "3.7.1"
  }
 },
 "nbformat": 4,
 "nbformat_minor": 2
}
